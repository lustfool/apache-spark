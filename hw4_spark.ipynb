{
 "cells": [
  {
   "cell_type": "code",
   "execution_count": 1,
   "metadata": {
    "id": "Tg6KVw8TEHSQ"
   },
   "outputs": [],
   "source": [
    "import pyspark\n",
    "from pyspark.sql import SparkSession\n",
    "from pyspark.sql.functions import col, sum"
   ]
  },
  {
   "cell_type": "markdown",
   "metadata": {
    "id": "UIjCL7T0GCJX"
   },
   "source": [
    "### Домашнее задание:\n",
    "Используя источник rate, напишите код, который создаст дополнительный столбец, который будет выводить сумму только нечетных чисел."
   ]
  },
  {
   "cell_type": "code",
   "execution_count": 2,
   "metadata": {},
   "outputs": [],
   "source": [
    "import warnings\n",
    "warnings.simplefilter(action='ignore', category=FutureWarning)"
   ]
  },
  {
   "cell_type": "code",
   "execution_count": 6,
   "metadata": {
    "id": "7Fk4fx1FEY8d"
   },
   "outputs": [
    {
     "name": "stderr",
     "output_type": "stream",
     "text": [
      "24/04/22 20:03:41 WARN StreamingQueryManager: Temporary checkpoint location created which is deleted normally when the query didn't fail: /tmp/temporary-dfce3869-82eb-4c01-9d65-e8c3ff70b75d. If it's required to delete it under any circumstances, please set spark.sql.streaming.forceDeleteTempCheckpointLocation to true. Important to know deleting temp checkpoint folder is best effort.\n"
     ]
    },
    {
     "name": "stdout",
     "output_type": "stream",
     "text": [
      "-------------------------------------------\n",
      "Batch: 0\n",
      "-------------------------------------------\n",
      "+----------+\n",
      "|sum(value)|\n",
      "+----------+\n",
      "|      null|\n",
      "+----------+\n",
      "\n",
      "-------------------------------------------\n",
      "Batch: 1\n",
      "-------------------------------------------\n",
      "+----------+\n",
      "|sum(value)|\n",
      "+----------+\n",
      "|      null|\n",
      "+----------+\n",
      "\n",
      "-------------------------------------------\n",
      "Batch: 2\n",
      "-------------------------------------------\n",
      "+----------+\n",
      "|sum(value)|\n",
      "+----------+\n",
      "|         1|\n",
      "+----------+\n",
      "\n",
      "-------------------------------------------\n",
      "Batch: 3\n",
      "-------------------------------------------\n",
      "+----------+\n",
      "|sum(value)|\n",
      "+----------+\n",
      "|         1|\n",
      "+----------+\n",
      "\n",
      "-------------------------------------------\n",
      "Batch: 4\n",
      "-------------------------------------------\n",
      "+----------+\n",
      "|sum(value)|\n",
      "+----------+\n",
      "|         4|\n",
      "+----------+\n",
      "\n",
      "-------------------------------------------\n",
      "Batch: 5\n",
      "-------------------------------------------\n",
      "+----------+\n",
      "|sum(value)|\n",
      "+----------+\n",
      "|         4|\n",
      "+----------+\n",
      "\n",
      "-------------------------------------------\n",
      "Batch: 6\n",
      "-------------------------------------------\n",
      "+----------+\n",
      "|sum(value)|\n",
      "+----------+\n",
      "|         9|\n",
      "+----------+\n",
      "\n",
      "-------------------------------------------\n",
      "Batch: 7\n",
      "-------------------------------------------\n",
      "+----------+\n",
      "|sum(value)|\n",
      "+----------+\n",
      "|         9|\n",
      "+----------+\n",
      "\n",
      "-------------------------------------------\n",
      "Batch: 8\n",
      "-------------------------------------------\n",
      "+----------+\n",
      "|sum(value)|\n",
      "+----------+\n",
      "|        16|\n",
      "+----------+\n",
      "\n",
      "-------------------------------------------\n",
      "Batch: 9\n",
      "-------------------------------------------\n",
      "+----------+\n",
      "|sum(value)|\n",
      "+----------+\n",
      "|        16|\n",
      "+----------+\n",
      "\n",
      "-------------------------------------------\n",
      "Batch: 10\n",
      "-------------------------------------------\n",
      "+----------+\n",
      "|sum(value)|\n",
      "+----------+\n",
      "|        25|\n",
      "+----------+\n",
      "\n",
      "-------------------------------------------\n",
      "Batch: 11\n",
      "-------------------------------------------\n",
      "+----------+\n",
      "|sum(value)|\n",
      "+----------+\n",
      "|        25|\n",
      "+----------+\n",
      "\n",
      "-------------------------------------------\n",
      "Batch: 12\n",
      "-------------------------------------------\n",
      "+----------+\n",
      "|sum(value)|\n",
      "+----------+\n",
      "|        36|\n",
      "+----------+\n",
      "\n",
      "-------------------------------------------\n",
      "Batch: 13\n",
      "-------------------------------------------\n",
      "+----------+\n",
      "|sum(value)|\n",
      "+----------+\n",
      "|        36|\n",
      "+----------+\n",
      "\n",
      "-------------------------------------------\n",
      "Batch: 14\n",
      "-------------------------------------------\n",
      "+----------+\n",
      "|sum(value)|\n",
      "+----------+\n",
      "|        49|\n",
      "+----------+\n",
      "\n"
     ]
    }
   ],
   "source": [
    "# Создаем SparkSession\n",
    "spark = SparkSession \\\n",
    ".builder.appName(\"hw3_spark\").getOrCreate()\n",
    "# Создаем поток данных с использованием источника данных `rate`\n",
    "streaming_df = spark \\\n",
    ".readStream \\\n",
    ".format(\"rate\") \\\n",
    ".option(\"rowsPerSecond\", 1) \\\n",
    ".load()\n",
    "# Оставляем только те строки, где значение нечетное\n",
    "filtered_df = streaming_df.filter(col(\"value\") % 2 == 1)\n",
    "# Суммирование\n",
    "sum_odds = filtered_df.agg(sum(\"value\"))\n",
    "# Выводим результат\n",
    "query = sum_odds \\\n",
    ".writeStream \\\n",
    ".outputMode(\"complete\") \\\n",
    ".format(\"console\") \\\n",
    ".start()\n",
    "query.awaitTermination(15)\n",
    "query.stop()"
   ]
  },
  {
   "cell_type": "code",
   "execution_count": null,
   "metadata": {},
   "outputs": [],
   "source": []
  }
 ],
 "metadata": {
  "colab": {
   "provenance": []
  },
  "kernelspec": {
   "display_name": "Python 3 (ipykernel)",
   "language": "python",
   "name": "python3"
  },
  "language_info": {
   "codemirror_mode": {
    "name": "ipython",
    "version": 3
   },
   "file_extension": ".py",
   "mimetype": "text/x-python",
   "name": "python",
   "nbconvert_exporter": "python",
   "pygments_lexer": "ipython3",
   "version": "3.7.3"
  }
 },
 "nbformat": 4,
 "nbformat_minor": 4
}
