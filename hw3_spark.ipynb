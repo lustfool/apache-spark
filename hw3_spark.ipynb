{
  "nbformat": 4,
  "nbformat_minor": 0,
  "metadata": {
    "colab": {
      "provenance": []
    },
    "kernelspec": {
      "name": "python3",
      "display_name": "Python 3"
    },
    "language_info": {
      "name": "python"
    }
  },
  "cells": [
    {
      "cell_type": "code",
      "source": [
        "from pyspark.sql import SparkSession\n",
        "from pyspark.sql.functions import avg, col, date_format\n",
        "from pyspark.sql.window import Window"
      ],
      "metadata": {
        "id": "wlBKmjLQ2XQk"
      },
      "execution_count": 3,
      "outputs": []
    },
    {
      "cell_type": "markdown",
      "source": [
        "### Домашнее задание:\n",
        "Условие: есть набор данных о продажах продуктов с информацией о дате продаж, категории продукта, количестве и выручке от продаж.\n",
        "\n",
        "Используя Apache Spark, загрузите предоставленный набор данных в DataFrame (пример данных ниже).\n",
        "\n",
        "(\"2023-11-20\", \"Electronics\", 100, 12000),\n",
        "\n",
        "(\"2023-11-21\", \"Electronics\", 110, 13000),\n",
        "\n",
        "(\"2023-11-22\", \"Electronics\", 105, 12500),\n",
        "\n",
        "(\"2023-11-20\", \"Clothing\", 300, 15000),\n",
        "\n",
        "(\"2023-11-21\", \"Clothing\", 280, 14000),\n",
        "\n",
        "(\"2023-11-22\", \"Clothing\", 320, 16000),\n",
        "\n",
        "(\"2023-11-20\", \"Books\", 150, 9000),\n",
        "\n",
        "(\"2023-11-21\", \"Books\", 200, 12000),\n",
        "\n",
        "(\"2023-11-22\", \"Books\", 180, 10000)\n",
        "\n",
        "Столбцы: \"date\", \"category\", \"quantity\", \"revenue\".\n",
        "\n",
        "С использованием оконных функций, рассчитайте среднее выручки от продаж для каждой категории продукта.\n",
        "Примените операцию pivot для того, чтобы преобразовать полученные данные таким образом, чтобы в качестве строк были категории продуктов, в качестве столбцов были дни, а значениями были средние значения выручки от продаж за соответствующий день"
      ],
      "metadata": {
        "id": "xFgPcAXZ2Yhe"
      }
    },
    {
      "cell_type": "code",
      "source": [
        "spark = SparkSession.builder.appName(\"hw3_spark\").getOrCreate()\n",
        "data = [\n",
        "   (\"2023-11-20\", \"Electronics\", 100, 12000),\n",
        "   (\"2023-11-21\", \"Electronics\", 110, 13000),\n",
        "   (\"2023-11-22\", \"Electronics\", 105, 12500),\n",
        "   (\"2023-11-20\", \"Clothing\", 300, 15000),\n",
        "   (\"2023-11-21\", \"Clothing\", 280, 14000),\n",
        "   (\"2023-11-22\", \"Clothing\", 320, 16000),\n",
        "   (\"2023-11-20\", \"Books\", 150, 9000),\n",
        "   (\"2023-11-21\", \"Books\", 200, 12000),\n",
        "   (\"2023-11-22\", \"Books\", 180, 10000)\n",
        "]\n",
        "columns = [\"date\", \"category\", \"quantity\", \"revenue\"]\n",
        "df = spark.createDataFrame(data, columns)\n",
        "df = df.withColumn(\"date\", date_format(col(\"date\"), \"yyyy-MM-dd\"))\n",
        "window_spec = Window.partitionBy(\"category\").orderBy(\"date\").rowsBetween(-2, 0)\n",
        "rolling_avg_df = df.withColumn(\"rolling_avg_revenue\", avg(\"revenue\").over(window_spec))\n",
        "pivot_df = rolling_avg_df.groupBy(\"category\").pivot(\"date\").mean(\"rolling_avg_revenue\")\n",
        "pivot_df.show()\n",
        "spark.stop()\n"
      ],
      "metadata": {
        "colab": {
          "base_uri": "https://localhost:8080/"
        },
        "id": "RmeJXtC86nvH",
        "outputId": "a4540ea1-0ac0-441f-9ae0-ca44715b9635"
      },
      "execution_count": 4,
      "outputs": [
        {
          "output_type": "stream",
          "name": "stdout",
          "text": [
            "+-----------+----------+----------+------------------+\n",
            "|   category|2023-11-20|2023-11-21|        2023-11-22|\n",
            "+-----------+----------+----------+------------------+\n",
            "|      Books|    9000.0|   10500.0|10333.333333333334|\n",
            "|   Clothing|   15000.0|   14500.0|           15000.0|\n",
            "|Electronics|   12000.0|   12500.0|           12500.0|\n",
            "+-----------+----------+----------+------------------+\n",
            "\n"
          ]
        }
      ]
    }
  ]
}