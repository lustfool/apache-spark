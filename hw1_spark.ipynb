{
  "nbformat": 4,
  "nbformat_minor": 0,
  "metadata": {
    "colab": {
      "provenance": []
    },
    "kernelspec": {
      "name": "python3",
      "display_name": "Python 3"
    },
    "language_info": {
      "name": "python"
    }
  },
  "cells": [
    {
      "cell_type": "code",
      "execution_count": null,
      "metadata": {
        "colab": {
          "base_uri": "https://localhost:8080/"
        },
        "id": "Wp3F3Ydr_QLq",
        "outputId": "920cae0c-cca2-42b6-ae10-4995cc5f7ca6"
      },
      "outputs": [
        {
          "output_type": "stream",
          "name": "stdout",
          "text": [
            "Collecting pyspark\n",
            "  Downloading pyspark-3.5.1.tar.gz (317.0 MB)\n",
            "\u001b[2K     \u001b[90m━━━━━━━━━━━━━━━━━━━━━━━━━━━━━━━━━━━━━━━━\u001b[0m \u001b[32m317.0/317.0 MB\u001b[0m \u001b[31m2.0 MB/s\u001b[0m eta \u001b[36m0:00:00\u001b[0m\n",
            "\u001b[?25h  Preparing metadata (setup.py) ... \u001b[?25l\u001b[?25hdone\n",
            "Requirement already satisfied: py4j==0.10.9.7 in /usr/local/lib/python3.10/dist-packages (from pyspark) (0.10.9.7)\n",
            "Building wheels for collected packages: pyspark\n",
            "  Building wheel for pyspark (setup.py) ... \u001b[?25l\u001b[?25hdone\n",
            "  Created wheel for pyspark: filename=pyspark-3.5.1-py2.py3-none-any.whl size=317488491 sha256=fa7148100d0b8d16d1b43d4d40383805d1808acac75c684d20f269c25ea48904\n",
            "  Stored in directory: /root/.cache/pip/wheels/80/1d/60/2c256ed38dddce2fdd93be545214a63e02fbd8d74fb0b7f3a6\n",
            "Successfully built pyspark\n",
            "Installing collected packages: pyspark\n",
            "Successfully installed pyspark-3.5.1\n"
          ]
        }
      ],
      "source": [
        "pip install pyspark"
      ]
    },
    {
      "cell_type": "code",
      "source": [
        "import pyspark\n",
        "from pyspark import SparkContext\n",
        "from pyspark.sql import SparkSession"
      ],
      "metadata": {
        "id": "7MM9ivWJ_XVd"
      },
      "execution_count": null,
      "outputs": []
    },
    {
      "cell_type": "markdown",
      "source": [
        "### Домашнее задание:\n",
        "Найти самую длинную последовательность упорядоченных чисел в RDD и вывести её."
      ],
      "metadata": {
        "id": "PSSywIgG_4bj"
      }
    },
    {
      "cell_type": "code",
      "source": [
        "def longest_increasing_subsequence(numbers):\n",
        "    subsequence = [numbers[0]]\n",
        "    for num in numbers[1:]:\n",
        "        if num > subsequence[-1]:\n",
        "            subsequence.append(num)\n",
        "        else:\n",
        "            left, right = 0, len(subsequence) - 1\n",
        "            while left < right:\n",
        "                mid = (left + right) // 2\n",
        "                if subsequence[mid] < num:\n",
        "                    left = mid + 1\n",
        "                else:\n",
        "                    right = mid\n",
        "            subsequence[left] = num\n",
        "    return subsequence"
      ],
      "metadata": {
        "id": "qdhnjb8_t3TU"
      },
      "execution_count": null,
      "outputs": []
    },
    {
      "cell_type": "code",
      "source": [
        "sc = SparkContext('local', 'Longest RDD')\n",
        "data = [1, 2, 3, 4, 20, 1, 2, 4, 5, 6]\n",
        "rdd = sc.parallelize(data)\n",
        "numbers = rdd.collect()\n",
        "longest_subsequence = longest_increasing_subsequence(numbers)\n",
        "print('Самая длинная последовательность упорядоченных чисел: ', longest_subsequence)"
      ],
      "metadata": {
        "colab": {
          "base_uri": "https://localhost:8080/"
        },
        "id": "QMXdF9nC_oyc",
        "outputId": "fc6e52b0-7e3c-4192-9785-2d85679afa6f"
      },
      "execution_count": null,
      "outputs": [
        {
          "output_type": "stream",
          "name": "stdout",
          "text": [
            "Самая длинная последовательность упорядоченных чисел:  [1, 2, 3, 4, 5, 6]\n"
          ]
        }
      ]
    },
    {
      "cell_type": "code",
      "source": [
        "sc.stop()"
      ],
      "metadata": {
        "id": "yDEf_9KFDOB4"
      },
      "execution_count": null,
      "outputs": []
    }
  ]
}