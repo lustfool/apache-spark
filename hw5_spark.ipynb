{
  "nbformat": 4,
  "nbformat_minor": 0,
  "metadata": {
    "colab": {
      "provenance": []
    },
    "kernelspec": {
      "name": "python3",
      "display_name": "Python 3"
    },
    "language_info": {
      "name": "python"
    }
  },
  "cells": [
    {
      "cell_type": "code",
      "source": [
        "!pip install pyspark"
      ],
      "metadata": {
        "colab": {
          "base_uri": "https://localhost:8080/"
        },
        "id": "1NyYCgRq7zuY",
        "outputId": "e97a5315-f1bd-4c9a-cf6e-e07d544e1949"
      },
      "execution_count": 2,
      "outputs": [
        {
          "output_type": "stream",
          "name": "stdout",
          "text": [
            "Collecting pyspark\n",
            "  Downloading pyspark-3.5.1.tar.gz (317.0 MB)\n",
            "\u001b[2K     \u001b[90m━━━━━━━━━━━━━━━━━━━━━━━━━━━━━━━━━━━━━━━━\u001b[0m \u001b[32m317.0/317.0 MB\u001b[0m \u001b[31m4.6 MB/s\u001b[0m eta \u001b[36m0:00:00\u001b[0m\n",
            "\u001b[?25h  Preparing metadata (setup.py) ... \u001b[?25l\u001b[?25hdone\n",
            "Requirement already satisfied: py4j==0.10.9.7 in /usr/local/lib/python3.10/dist-packages (from pyspark) (0.10.9.7)\n",
            "Building wheels for collected packages: pyspark\n",
            "  Building wheel for pyspark (setup.py) ... \u001b[?25l\u001b[?25hdone\n",
            "  Created wheel for pyspark: filename=pyspark-3.5.1-py2.py3-none-any.whl size=317488491 sha256=a64eb2fe560084ff13f5bc2ab7ff0f74a11ffd3adc4694311f3b8b991d4f635c\n",
            "  Stored in directory: /root/.cache/pip/wheels/80/1d/60/2c256ed38dddce2fdd93be545214a63e02fbd8d74fb0b7f3a6\n",
            "Successfully built pyspark\n",
            "Installing collected packages: pyspark\n",
            "Successfully installed pyspark-3.5.1\n"
          ]
        }
      ]
    },
    {
      "cell_type": "code",
      "source": [
        "from pyspark.sql import SparkSession\n",
        "from pyspark.sql.window import Window\n",
        "import pyspark.sql.functions as fn\n",
        "from pyspark.sql.types import DoubleType"
      ],
      "metadata": {
        "id": "ZQO-AWYSTQmS"
      },
      "execution_count": 3,
      "outputs": []
    },
    {
      "cell_type": "markdown",
      "source": [
        "### Домашнее задание:\n",
        "**Условие:** создайте csv файл с таким содержимым:\n",
        "\n",
        "title,author,genre,sales,year\n",
        "\n",
        "\"1984\", \"George Orwell\", \"Science Fiction\", 5000, 1949\n",
        "\n",
        "\"The Lord of the Rings\", \"J.R.R. Tolkien\", \"Fantasy\", 3000, 1954\n",
        "\n",
        "\"To Kill a Mockingbird\", \"Harper Lee\", \"Southern Gothic\", 4000, 1960\n",
        "\n",
        "\"The Catcher in the Rye\", \"J.D. Salinger\", \"Novel\", 2000, 1951\n",
        "\n",
        "\"The Great Gatsby\", \"F. Scott Fitzgerald\", \"Novel\", 4500, 1925\n",
        "\n",
        "**Задание:**\n",
        "\n",
        "— Используя Spark прочитайте данные из файла csv.\n",
        "\n",
        "— Фильтруйте данные, чтобы оставить только книги, продажи которых превышают 3000 экземпляров.\n",
        "\n",
        "— Сгруппируйте данные по жанру и вычислите общий объем продаж для каждого жанра.\n",
        "\n",
        "— Отсортируйте данные по общему объему продаж в порядке убывания.\n",
        "\n",
        "— Выведите результаты на экран.\n"
      ],
      "metadata": {
        "id": "FPFY29npTWL-"
      }
    },
    {
      "cell_type": "code",
      "execution_count": 6,
      "metadata": {
        "colab": {
          "base_uri": "https://localhost:8080/"
        },
        "id": "-UqBUyoI7tjk",
        "outputId": "326d8a08-568a-49a5-e57a-fdc202adffbb"
      },
      "outputs": [
        {
          "output_type": "stream",
          "name": "stdout",
          "text": [
            "+--------------------+--------------------+--------------------+-----+------+\n",
            "|               title|              author|               genre|sales|  year|\n",
            "+--------------------+--------------------+--------------------+-----+------+\n",
            "|           \"\"\"1984\"\"|   \"\"George Orwell\"\"| \"\"Science Fiction\"\"| 5000| 1949\"|\n",
            "|\"\"\"To Kill a Mock...|      \"\"Harper Lee\"\"| \"\"Southern Gothic\"\"| 4000| 1960\"|\n",
            "|\"\"\"The Great Gats...| \"\"F. Scott Fitzg...|           \"\"Novel\"\"| 4500| 1925\"|\n",
            "+--------------------+--------------------+--------------------+-----+------+\n",
            "\n",
            "+--------------------+------------------+\n",
            "|               genre|sum_sales_by_genre|\n",
            "+--------------------+------------------+\n",
            "|           \"\"Novel\"\"|            6500.0|\n",
            "| \"\"Science Fiction\"\"|            5000.0|\n",
            "| \"\"Southern Gothic\"\"|            4000.0|\n",
            "|         \"\"Fantasy\"\"|            3000.0|\n",
            "+--------------------+------------------+\n",
            "\n"
          ]
        }
      ],
      "source": [
        "spark = SparkSession.builder.appName(\"hw5_spark\").getOrCreate()\n",
        "df = spark.read.option(\"header\",True).csv(\"book1.csv\")\n",
        "filtered_df = df.filter(df.sales > 3000)\n",
        "filtered_df.show()\n",
        "window_spec = Window.partitionBy(\"genre\")\n",
        "sum_sales_by_genre = fn.sum(\"sales\").over(window_spec)\n",
        "sum_sales_by_genre_df = df.withColumn(\"sum_sales_by_genre\", sum_sales_by_genre)\n",
        "sum_sales_by_genre_df.select([\"genre\", \"sum_sales_by_genre\"]).distinct() \\\n",
        "    .orderBy(sum_sales_by_genre_df.sum_sales_by_genre.desc()).show()"
      ]
    }
  ]
}